{
 "cells": [
  {
   "cell_type": "markdown",
   "metadata": {},
   "source": [
    "Faça um programa em Python que, dada a idade de um atleta que será digitada pelo usuário, apresente a mensagem da coluna CATEGORIA de acordo com a tabela abaixo, onde a categoria depende da idade de entrada. "
   ]
  },
  {
   "cell_type": "code",
   "execution_count": null,
   "metadata": {},
   "outputs": [],
   "source": [
    "i = int(input())\n",
    "if i < 5:\n",
    "  print('NÃO TEM IDADE PARA SER ATLETA')\n",
    "elif i<=7:\n",
    "  print('INFANTIL A')\n",
    "elif i<=10:\n",
    "  print('INFANTIL B')\n",
    "elif i<=13:\n",
    "  print('JUVENIL A')\n",
    "elif i<=17:\n",
    "  print('JUVENIL B')\n",
    "elif i>=18:\n",
    "  print('SÊNIOR')"
   ]
  }
 ],
 "metadata": {
  "kernelspec": {
   "display_name": "Python 3.9.13 ('base')",
   "language": "python",
   "name": "python3"
  },
  "language_info": {
   "name": "python",
   "version": "3.9.13"
  },
  "orig_nbformat": 4,
  "vscode": {
   "interpreter": {
    "hash": "ad2bdc8ecc057115af97d19610ffacc2b4e99fae6737bb82f5d7fb13d2f2c186"
   }
  }
 },
 "nbformat": 4,
 "nbformat_minor": 2
}
