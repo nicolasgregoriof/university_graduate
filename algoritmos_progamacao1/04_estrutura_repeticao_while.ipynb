{
 "cells": [
  {
   "cell_type": "markdown",
   "metadata": {},
   "source": [
    "Faça um programa em Python que solicite a quantidade de alunos de uma turma.\n",
    "\n",
    "Após esta informação, o usuário deve digitar a média de cada aluno da turma, e o programa apresentará a mensagem PARABÉNS VOCÊ ESTÁ APROVADO aos alunos com média maior ou igual a 6.0.\n",
    "\n",
    "O programa deve calcular e mostrar, no final da entrada de dados, a média geral da turma.\n",
    "\n",
    "Obs.: Caso a quantidade informada de alunos da turma for igual a zero, o programa deve emitir a seguinte mensagem: NÃO HOUVE PROCESSAMENTO"
   ]
  },
  {
   "cell_type": "code",
   "execution_count": null,
   "metadata": {},
   "outputs": [],
   "source": [
    "qtde_alunos = int(input())\n",
    "media_aluno = 0\n",
    "media_turma = 0\n",
    "contador = 0\n",
    "soma_notas = 0\n",
    "if qtde_alunos != 0:\n",
    "  while qtde_alunos != 0 and contador+1 <= qtde_alunos:\n",
    "    media_aluno = float(input())\n",
    "    soma_notas = soma_notas + media_aluno\n",
    "    contador += 1\n",
    "    if media_aluno >= 6.0:\n",
    "      print('PARABÉNS VOCÊ ESTÁ APROVADO')\n",
    "  media_turma = (soma_notas / contador)\n",
    "  print(media_turma)\n",
    "else: print('NÃO HOUVE PROCESSAMENTO')"
   ]
  }
 ],
 "metadata": {
  "kernelspec": {
   "display_name": "Python 3.9.13 ('base')",
   "language": "python",
   "name": "python3"
  },
  "language_info": {
   "name": "python",
   "version": "3.9.13"
  },
  "orig_nbformat": 4,
  "vscode": {
   "interpreter": {
    "hash": "ad2bdc8ecc057115af97d19610ffacc2b4e99fae6737bb82f5d7fb13d2f2c186"
   }
  }
 },
 "nbformat": 4,
 "nbformat_minor": 2
}
