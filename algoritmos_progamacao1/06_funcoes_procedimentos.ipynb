{
 "cells": [
  {
   "cell_type": "markdown",
   "metadata": {},
   "source": [
    "Faça um programa modularizado em Python com as seguintes funções: \n",
    "\n",
    "a) atualiza_preco(valor): a função deve receber como parâmetro o valor de um produto, calcular e retornar este valor com aumento de 10% \n",
    "\n",
    "b) taxa(valor): a função calcula e retorna o valor da taxa de 2.5% sobre o valor do produto atualizado (após a chamada da função atualiza_preco). \n",
    "\n",
    "c) main(): terá o programa principal que deve, nesta ordem, fazer a entrada via teclado (digitada pelo usuário) do valor do produto, depois chamar as funções atualiza_preco e taxa e apresentar os valores calculados do valor atualizado com duas casas decimais e do valor da taxa também com duas casas decimais. \n",
    "\n",
    "Ao final, chame a função main() para que o programa seja executado. "
   ]
  },
  {
   "cell_type": "code",
   "execution_count": null,
   "metadata": {},
   "outputs": [],
   "source": [
    "def atualiza_preco(valor):\n",
    "    new_p = valor*1.1\n",
    "    return new_p\n",
    "\n",
    "def taxa(valor):\n",
    "    vr_tx = valor*0.025\n",
    "    return vr_tx\n",
    "\n",
    "def main():\n",
    "    valor_produto = float(input())\n",
    "    valor_atualizado = atualiza_preco(valor_produto)\n",
    "    valor_taxado = taxa(valor_atualizado)\n",
    "    print(f'{valor_atualizado:.2f}')\n",
    "    print(f'{valor_taxado:.2f}')\n",
    "\n",
    "main()"
   ]
  },
  {
   "cell_type": "markdown",
   "metadata": {},
   "source": [
    "Elabore uma função em Python chamada valorPagamento para determinar o valor a ser pago por uma prestação de conta.  \n",
    "\n",
    "A função valorPagamento, que você irá escrever, recebe por parâmetro o valor da prestação e o número de dias em atraso, calcula e retorna o valor a ser pago. \n",
    "\n",
    "O cálculo do valor a ser pago é feito da seguinte forma:\n",
    "\n",
    "- Para pagamentos sem dias de atraso, cobrar o valor da prestação,\n",
    "\n",
    "- Quando houver atraso, cobrar 3% de multa sobre o valor da prestação e juros de 0,1%, sobre o valor da prestação, por dia de atraso.\n",
    "\n",
    "O programa possui a função principal (def main()), já escrita na questão, que solicita ao usuário o valor da prestação e o número de dias em atraso e mostra o valor retornado pela função que você escreverá.  "
   ]
  },
  {
   "cell_type": "code",
   "execution_count": null,
   "metadata": {},
   "outputs": [],
   "source": [
    "def entradas_prestacao():\n",
    "    vr_prest = float(input())\n",
    "    return vr_prest\n",
    "\n",
    "def dias_atraso():\n",
    "    d_atraso = int(input())\n",
    "    return d_atraso\n",
    "\n",
    "def pgmto_em_dia(valor):\n",
    "    return_em_dia = valor\n",
    "    return return_em_dia\n",
    "\n",
    "def pgmto_atrasado(valor,dias):\n",
    "    juros = (((dias*0.1)/100)*valor)\n",
    "    multa = valor*0.03\n",
    "    vr_atualizado = valor + juros + multa\n",
    "    return vr_atualizado\n",
    "\n",
    "def valorPagamento(valor,dias):\n",
    "    vr_prest = valor\n",
    "    d_atraso = dias\n",
    "    if d_atraso == 0:\n",
    "        ret = pgmto_em_dia(vr_prest)\n",
    "    else:\n",
    "        ret = pgmto_atrasado(vr_prest,d_atraso)\n",
    "    return ret\n",
    "\n",
    "def main():\n",
    "    valor = float(input())\n",
    "    dias = int(input())\n",
    "    print(valorPagamento(valor,dias))\n",
    "    \n",
    "main()"
   ]
  }
 ],
 "metadata": {
  "kernelspec": {
   "display_name": "Python 3.9.13 ('base')",
   "language": "python",
   "name": "python3"
  },
  "language_info": {
   "name": "python",
   "version": "3.9.13"
  },
  "orig_nbformat": 4,
  "vscode": {
   "interpreter": {
    "hash": "ad2bdc8ecc057115af97d19610ffacc2b4e99fae6737bb82f5d7fb13d2f2c186"
   }
  }
 },
 "nbformat": 4,
 "nbformat_minor": 2
}
