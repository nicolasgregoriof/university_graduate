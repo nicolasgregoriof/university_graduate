{
 "cells": [
  {
   "cell_type": "markdown",
   "metadata": {},
   "source": [
    "EXERCÍCIO 1 – Escreva um programa em Python que permita ao usuário digitar dois números inteiros e exibir o resultado para cada uma das seguintes operações: soma, subtração, multiplicação, divisão, divisão truncada, resto e exponenciação. "
   ]
  },
  {
   "cell_type": "code",
   "execution_count": 2,
   "metadata": {},
   "outputs": [
    {
     "name": "stdout",
     "output_type": "stream",
     "text": [
      "Digite dois números inteiros\n",
      "A soma das duas varáveis é: 2\n",
      "A subtração das duas varáveis é: 0\n",
      "A multiplicação das duas varáveis é: 1\n",
      "A divisão das duas varáveis é: 1.0\n",
      "A divisão truncada das duas varáveis é: 1\n",
      "O resto das duas varáveis é: 0\n",
      "A exponenciação das duas varáveis é: 1\n"
     ]
    }
   ],
   "source": [
    "print('Digite dois números inteiros')\n",
    "n1 = int(input())\n",
    "n2 = int(input())\n",
    "\n",
    "soma = n1 + n2 #soma\n",
    "sub = n1 - n2  #subtração\n",
    "mult = n1 * n2 #multiplicação\n",
    "div = n1 / n2  #divisão\n",
    "div_trunc = n1 // n2 #divisão truncada\n",
    "resto = n1 % n2     #resto\n",
    "exp = n1 ** n2       #exponenciação\n",
    "\n",
    "print(f'A soma das duas varáveis é: {soma}')\n",
    "print(f'A subtração das duas varáveis é: {sub}')\n",
    "print(f'A multiplicação das duas varáveis é: {mult}')\n",
    "print(f'A divisão das duas varáveis é: {div}')\n",
    "print(f'A divisão truncada das duas varáveis é: {div_trunc}')\n",
    "print(f'O resto das duas varáveis é: {resto}')\n",
    "print(f'A exponenciação das duas varáveis é: {exp}')"
   ]
  },
  {
   "cell_type": "markdown",
   "metadata": {},
   "source": [
    "EXERCÍCIO 2 – Faça um programa em Python que leia dois números inteiros e exiba o quadrado da diferença do primeiro valor pelo segundo. "
   ]
  },
  {
   "cell_type": "code",
   "execution_count": null,
   "metadata": {},
   "outputs": [],
   "source": [
    "import math\n",
    "\n",
    "print('Digite dois números inteiros')\n",
    "n1 = int(input())\n",
    "n2 = int(input())\n",
    "\n",
    "dif = n1 - n2 #Diferença entre os dois número\n",
    "dif_quadrado = math.pow(dif,2)\n",
    "print(f'O quadrado da diferença do primeiro valor pelo segundo é {dif_quadrado}')\n"
   ]
  },
  {
   "cell_type": "markdown",
   "metadata": {},
   "source": [
    "EXERCÍCIO 3 – Faça um programa em Python que resolva o seguinte problema: \n",
    "\n",
    "Um concurso possui um prêmio no montante de R$ 780.000,00 para dividir entre três ganhadores da seguinte forma: \n",
    "\n",
    "- o primeiro ganhador receberá 46% do prêmio; \n",
    "\n",
    "- o segundo ganhador receberá 32% do prêmio; \n",
    "\n",
    "- o terceiro ganhador receberá o restante do prêmio. "
   ]
  },
  {
   "cell_type": "code",
   "execution_count": null,
   "metadata": {},
   "outputs": [],
   "source": [
    "premio = float(780000.00)\n",
    "\n",
    "g1 = premio*46/100 \n",
    "g2 = premio*32/100\n",
    "g3 = premio - (g1 +g2)\n",
    "\n",
    "print ('O ganhador nº 1 irá receber %.1f' %(g1))\n",
    "print ('O ganhador nº 2 irá receber %.1f'%(g2))\n",
    "print ('O ganhador nº 3 irá receber %.1f'%(g3))\n",
    "print ('Total distribuido foi de %.1f' %(g1+g2+g3))"
   ]
  },
  {
   "cell_type": "markdown",
   "metadata": {},
   "source": [
    "Faça um programa em Python que receba o custo (valor em reais) de um espetáculo teatral e o preço do convite (valor em reais) desse espetáculo. Esse programa deve calcular e mostrar:  \n",
    "\n",
    " \n",
    "\n",
    "a) A quantidade de convites que devem ser vendidos para que, pelo menos, o custo do espetáculo seja alcançado.  \n",
    "\n",
    "b) A quantidade de convites que devem ser vendidos para que se tenha um lucro de 23%. \n",
    "\n",
    " \n",
    "\n",
    "Observe que as quantidades calculadas devem ser um número inteiro, portanto, o resultado da quantidade de convites deve ser arredondada para cima, usando a função matemática apropriada em Python. "
   ]
  },
  {
   "cell_type": "code",
   "execution_count": null,
   "metadata": {},
   "outputs": [],
   "source": [
    "import math\n",
    "custo = float(input())\n",
    "vr_convite = float (input())\n",
    "qtde_vendida_custo = custo/vr_convite\n",
    "print(math.ceil(qtde_vendida_custo))\n",
    "\n",
    "lucro = custo*1.23\n",
    "qtde_vendida_lucro = lucro/vr_convite\n",
    "print(math.ceil(qtde_vendida_lucro))"
   ]
  }
 ],
 "metadata": {
  "kernelspec": {
   "display_name": "Python 3.9.13 ('base')",
   "language": "python",
   "name": "python3"
  },
  "language_info": {
   "codemirror_mode": {
    "name": "ipython",
    "version": 3
   },
   "file_extension": ".py",
   "mimetype": "text/x-python",
   "name": "python",
   "nbconvert_exporter": "python",
   "pygments_lexer": "ipython3",
   "version": "3.9.13"
  },
  "orig_nbformat": 4,
  "vscode": {
   "interpreter": {
    "hash": "ad2bdc8ecc057115af97d19610ffacc2b4e99fae6737bb82f5d7fb13d2f2c186"
   }
  }
 },
 "nbformat": 4,
 "nbformat_minor": 2
}
