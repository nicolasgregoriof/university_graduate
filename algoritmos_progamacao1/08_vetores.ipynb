{
 "cells": [
  {
   "cell_type": "markdown",
   "metadata": {},
   "source": [
    "Faça um programa modularizado em Python, para resolver um problema usando listas.  \n",
    "\n",
    "O programa deve ter as seguintes funções: \n",
    "\n",
    "- entrada_carro(): faz a entrada do modelo de quatro carros via teclado (o usuário digitará o modelo de quatro carros); \n",
    "\n",
    "- entrada_consumo(): faz a entrada de um número inteiro que é o consumo (em litros) de cada modelo de carro por quilometro (o usuário digita o consumo correspondente a cada carro); \n",
    "\n",
    "- economico(): retorna o modelo do carro mais econômico. Observe que o modelo do carro e seu consumo estará na mesma posição na lista, porém em vetores diferentes (carro e consumo). \n",
    "\n",
    "A entrada de dados deve ser feita da seguinte forma: \n",
    "\n",
    "- O usuário digitará o modelo de cada um dos quatro carros, linha por linha, seguidas uma da outra. \n",
    "\n",
    "- O usuário digitará o consumo de cada um dos quatro carros, linha por linha. \n",
    "\n",
    "O programa apresentará, na tela, o modelo do carro que tiver o menor valor de consumo. "
   ]
  },
  {
   "cell_type": "code",
   "execution_count": null,
   "metadata": {},
   "outputs": [],
   "source": [
    "carros = []\n",
    "consumos = []\n",
    "economic = []\n",
    "\n",
    "def entrada_carro():\n",
    "    for i in range(4):\n",
    "        carro = (input())\n",
    "        carros.append(carro)\n",
    "\n",
    "def entrada_consumo():\n",
    "    for i in range(4):\n",
    "        consumo = int(input())\n",
    "        consumos.append(consumo)\n",
    "\n",
    "def economico():\n",
    "    consumo_sort = sorted(consumos)\n",
    "    economic = consumo_sort[0] \n",
    "    for i in range(0,len(consumos)):\n",
    "         if consumos[i] == economic:\n",
    "            posicao = i\n",
    "            break\n",
    "    return(carros[posicao])\n",
    "\n",
    "def main():\n",
    "    entrada_carro()\n",
    "    entrada_consumo()\n",
    "    print(economico())\n",
    "\n",
    "main()"
   ]
  }
 ],
 "metadata": {
  "kernelspec": {
   "display_name": "Python 3.9.13 ('base')",
   "language": "python",
   "name": "python3"
  },
  "language_info": {
   "name": "python",
   "version": "3.9.13"
  },
  "orig_nbformat": 4,
  "vscode": {
   "interpreter": {
    "hash": "ad2bdc8ecc057115af97d19610ffacc2b4e99fae6737bb82f5d7fb13d2f2c186"
   }
  }
 },
 "nbformat": 4,
 "nbformat_minor": 2
}
